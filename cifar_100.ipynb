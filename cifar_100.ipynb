{
  "nbformat": 4,
  "nbformat_minor": 0,
  "metadata": {
    "colab": {
      "provenance": [],
      "gpuType": "T4",
      "authorship_tag": "ABX9TyOenjklowAE4PYTW/mb3zqr",
      "include_colab_link": true
    },
    "kernelspec": {
      "name": "python3",
      "display_name": "Python 3"
    },
    "language_info": {
      "name": "python"
    },
    "accelerator": "GPU"
  },
  "cells": [
    {
      "cell_type": "markdown",
      "metadata": {
        "id": "view-in-github",
        "colab_type": "text"
      },
      "source": [
        "<a href=\"https://colab.research.google.com/github/manojsham4603/step-2023-ml-dl/blob/main/cifar_100.ipynb\" target=\"_parent\"><img src=\"https://colab.research.google.com/assets/colab-badge.svg\" alt=\"Open In Colab\"/></a>"
      ]
    },
    {
      "cell_type": "code",
      "execution_count": 2,
      "metadata": {
        "id": "Y8ueixeLWy3g"
      },
      "outputs": [],
      "source": [
        "#To upload the Dataset\n",
        "import tensorflow as tf\n",
        "from tensorflow import keras\n",
        "import numpy as np\n",
        "import pandas as pd\n",
        "from keras import backend as K\n",
        "#for model Building\n",
        "#Sequential is to build the model layer by layer\n",
        "from keras.models import Sequential\n",
        "from keras.layers import Conv2D, MaxPooling2D\n",
        "#Dense is used to represents fully connected Layer\n",
        "from keras.layers import Dense, Dropout, Activation, Flatten\n",
        "import os\n",
        "import pathlib"
      ]
    },
    {
      "cell_type": "code",
      "source": [
        "#load the Dataset\n",
        "tf.keras.datasets.cifar100.load_data(label_mode='fine')\n",
        ""
      ],
      "metadata": {
        "colab": {
          "base_uri": "https://localhost:8080/"
        },
        "id": "IxjHR6J6W68P",
        "outputId": "e0c202be-41df-4949-ab1d-9e8932f66919"
      },
      "execution_count": 3,
      "outputs": [
        {
          "output_type": "stream",
          "name": "stdout",
          "text": [
            "Downloading data from https://www.cs.toronto.edu/~kriz/cifar-100-python.tar.gz\n",
            "169001437/169001437 [==============================] - 13s 0us/step\n"
          ]
        },
        {
          "output_type": "execute_result",
          "data": {
            "text/plain": [
              "((array([[[[255, 255, 255],\n",
              "           [255, 255, 255],\n",
              "           [255, 255, 255],\n",
              "           ...,\n",
              "           [195, 205, 193],\n",
              "           [212, 224, 204],\n",
              "           [182, 194, 167]],\n",
              "  \n",
              "          [[255, 255, 255],\n",
              "           [254, 254, 254],\n",
              "           [254, 254, 254],\n",
              "           ...,\n",
              "           [170, 176, 150],\n",
              "           [161, 168, 130],\n",
              "           [146, 154, 113]],\n",
              "  \n",
              "          [[255, 255, 255],\n",
              "           [254, 254, 254],\n",
              "           [255, 255, 255],\n",
              "           ...,\n",
              "           [189, 199, 169],\n",
              "           [166, 178, 130],\n",
              "           [121, 133,  87]],\n",
              "  \n",
              "          ...,\n",
              "  \n",
              "          [[148, 185,  79],\n",
              "           [142, 182,  57],\n",
              "           [140, 179,  60],\n",
              "           ...,\n",
              "           [ 30,  17,   1],\n",
              "           [ 65,  62,  15],\n",
              "           [ 76,  77,  20]],\n",
              "  \n",
              "          [[122, 157,  66],\n",
              "           [120, 155,  58],\n",
              "           [126, 160,  71],\n",
              "           ...,\n",
              "           [ 22,  16,   3],\n",
              "           [ 97, 112,  56],\n",
              "           [141, 161,  87]],\n",
              "  \n",
              "          [[ 87, 122,  41],\n",
              "           [ 88, 122,  39],\n",
              "           [101, 134,  56],\n",
              "           ...,\n",
              "           [ 34,  36,  10],\n",
              "           [105, 133,  59],\n",
              "           [138, 173,  79]]],\n",
              "  \n",
              "  \n",
              "         [[[255, 255, 255],\n",
              "           [253, 253, 253],\n",
              "           [253, 253, 253],\n",
              "           ...,\n",
              "           [253, 253, 253],\n",
              "           [253, 253, 253],\n",
              "           [255, 255, 255]],\n",
              "  \n",
              "          [[255, 255, 255],\n",
              "           [255, 255, 255],\n",
              "           [255, 255, 255],\n",
              "           ...,\n",
              "           [255, 255, 255],\n",
              "           [255, 255, 255],\n",
              "           [255, 255, 255]],\n",
              "  \n",
              "          [[255, 255, 255],\n",
              "           [255, 255, 255],\n",
              "           [255, 255, 255],\n",
              "           ...,\n",
              "           [255, 255, 255],\n",
              "           [255, 255, 255],\n",
              "           [255, 255, 255]],\n",
              "  \n",
              "          ...,\n",
              "  \n",
              "          [[255, 255, 255],\n",
              "           [255, 255, 255],\n",
              "           [255, 255, 255],\n",
              "           ...,\n",
              "           [255, 255, 255],\n",
              "           [255, 255, 255],\n",
              "           [255, 255, 255]],\n",
              "  \n",
              "          [[255, 255, 255],\n",
              "           [255, 255, 255],\n",
              "           [255, 255, 255],\n",
              "           ...,\n",
              "           [255, 255, 255],\n",
              "           [255, 255, 255],\n",
              "           [255, 255, 255]],\n",
              "  \n",
              "          [[255, 255, 255],\n",
              "           [253, 253, 253],\n",
              "           [253, 253, 253],\n",
              "           ...,\n",
              "           [253, 253, 253],\n",
              "           [253, 253, 253],\n",
              "           [255, 255, 255]]],\n",
              "  \n",
              "  \n",
              "         [[[250, 250, 248],\n",
              "           [248, 249, 243],\n",
              "           [247, 248, 239],\n",
              "           ...,\n",
              "           [250, 250, 246],\n",
              "           [250, 250, 246],\n",
              "           [249, 250, 246]],\n",
              "  \n",
              "          [[250, 251, 245],\n",
              "           [248, 249, 238],\n",
              "           [247, 247, 234],\n",
              "           ...,\n",
              "           [251, 251, 242],\n",
              "           [251, 252, 243],\n",
              "           [250, 251, 243]],\n",
              "  \n",
              "          [[251, 251, 244],\n",
              "           [250, 248, 237],\n",
              "           [250, 245, 233],\n",
              "           ...,\n",
              "           [250, 249, 238],\n",
              "           [250, 249, 240],\n",
              "           [250, 249, 242]],\n",
              "  \n",
              "          ...,\n",
              "  \n",
              "          [[221, 213, 191],\n",
              "           [221, 206, 176],\n",
              "           [225, 207, 181],\n",
              "           ...,\n",
              "           [199, 176, 134],\n",
              "           [207, 193, 165],\n",
              "           [233, 229, 226]],\n",
              "  \n",
              "          [[225, 223, 204],\n",
              "           [227, 219, 196],\n",
              "           [229, 216, 200],\n",
              "           ...,\n",
              "           [204, 185, 151],\n",
              "           [212, 201, 180],\n",
              "           [234, 232, 228]],\n",
              "  \n",
              "          [[233, 233, 226],\n",
              "           [234, 232, 224],\n",
              "           [235, 230, 225],\n",
              "           ...,\n",
              "           [219, 209, 194],\n",
              "           [223, 216, 207],\n",
              "           [232, 230, 228]]],\n",
              "  \n",
              "  \n",
              "         ...,\n",
              "  \n",
              "  \n",
              "         [[[248, 244, 242],\n",
              "           [240, 232, 223],\n",
              "           [236, 232, 223],\n",
              "           ...,\n",
              "           [233, 229, 222],\n",
              "           [230, 228, 222],\n",
              "           [238, 237, 233]],\n",
              "  \n",
              "          [[225, 213, 204],\n",
              "           [186, 167, 149],\n",
              "           [175, 159, 140],\n",
              "           ...,\n",
              "           [163, 148, 134],\n",
              "           [156, 144, 133],\n",
              "           [192, 184, 176]],\n",
              "  \n",
              "          [[209, 194, 179],\n",
              "           [144, 120,  95],\n",
              "           [139, 115,  87],\n",
              "           ...,\n",
              "           [109,  86,  67],\n",
              "           [109,  90,  76],\n",
              "           [157, 145, 135]],\n",
              "  \n",
              "          ...,\n",
              "  \n",
              "          [[161, 159, 153],\n",
              "           [ 39,  34,  28],\n",
              "           [ 28,  20,  14],\n",
              "           ...,\n",
              "           [ 93,  72,  53],\n",
              "           [ 85,  67,  50],\n",
              "           [136, 126, 115]],\n",
              "  \n",
              "          [[181, 179, 172],\n",
              "           [ 86,  83,  77],\n",
              "           [ 71,  68,  62],\n",
              "           ...,\n",
              "           [122, 103,  89],\n",
              "           [105,  92,  82],\n",
              "           [151, 145, 141]],\n",
              "  \n",
              "          [[224, 223, 218],\n",
              "           [180, 180, 175],\n",
              "           [173, 172, 167],\n",
              "           ...,\n",
              "           [196, 187, 180],\n",
              "           [183, 178, 174],\n",
              "           [204, 205, 205]]],\n",
              "  \n",
              "  \n",
              "         [[[156, 154, 137],\n",
              "           [151, 146, 123],\n",
              "           [151, 144, 125],\n",
              "           ...,\n",
              "           [155, 150, 129],\n",
              "           [152, 148, 125],\n",
              "           [186, 184, 163]],\n",
              "  \n",
              "          [[110, 106,  77],\n",
              "           [116, 108,  62],\n",
              "           [114, 101,  57],\n",
              "           ...,\n",
              "           [116, 106,  61],\n",
              "           [111, 103,  56],\n",
              "           [134, 129,  92]],\n",
              "  \n",
              "          [[116, 112,  82],\n",
              "           [124, 118,  66],\n",
              "           [128, 118,  67],\n",
              "           ...,\n",
              "           [ 99,  84,  43],\n",
              "           [101,  87,  43],\n",
              "           [129, 118,  86]],\n",
              "  \n",
              "          ...,\n",
              "  \n",
              "          [[109, 101,  74],\n",
              "           [112, 100,  54],\n",
              "           [118, 105,  62],\n",
              "           ...,\n",
              "           [126, 113,  65],\n",
              "           [126, 111,  61],\n",
              "           [138, 124,  89]],\n",
              "  \n",
              "          [[ 98,  92,  63],\n",
              "           [ 93,  82,  35],\n",
              "           [ 96,  83,  38],\n",
              "           ...,\n",
              "           [112,  96,  47],\n",
              "           [109,  92,  45],\n",
              "           [127, 113,  80]],\n",
              "  \n",
              "          [[170, 167, 145],\n",
              "           [160, 153, 118],\n",
              "           [163, 152, 119],\n",
              "           ...,\n",
              "           [161, 151, 114],\n",
              "           [156, 144, 107],\n",
              "           [163, 154, 126]]],\n",
              "  \n",
              "  \n",
              "         [[[ 31,  67, 122],\n",
              "           [ 30,  68, 124],\n",
              "           [ 31,  69, 126],\n",
              "           ...,\n",
              "           [ 32,  70, 129],\n",
              "           [ 32,  70, 125],\n",
              "           [ 32,  69, 122]],\n",
              "  \n",
              "          [[ 29,  68, 126],\n",
              "           [ 28,  69, 128],\n",
              "           [ 30,  69, 130],\n",
              "           ...,\n",
              "           [ 32,  70, 131],\n",
              "           [ 32,  69, 127],\n",
              "           [ 31,  69, 124]],\n",
              "  \n",
              "          [[ 30,  67, 126],\n",
              "           [ 29,  68, 128],\n",
              "           [ 30,  69, 130],\n",
              "           ...,\n",
              "           [ 32,  72, 132],\n",
              "           [ 31,  70, 130],\n",
              "           [ 30,  69, 127]],\n",
              "  \n",
              "          ...,\n",
              "  \n",
              "          [[ 39,  41,  76],\n",
              "           [ 38,  42,  76],\n",
              "           [ 38,  44,  78],\n",
              "           ...,\n",
              "           [ 39,  44,  79],\n",
              "           [ 38,  42,  77],\n",
              "           [ 39,  41,  76]],\n",
              "  \n",
              "          [[ 40,  39,  73],\n",
              "           [ 39,  40,  74],\n",
              "           [ 39,  41,  76],\n",
              "           ...,\n",
              "           [ 39,  41,  76],\n",
              "           [ 40,  41,  74],\n",
              "           [ 40,  39,  73]],\n",
              "  \n",
              "          [[ 40,  39,  70],\n",
              "           [ 40,  39,  71],\n",
              "           [ 40,  39,  72],\n",
              "           ...,\n",
              "           [ 41,  38,  72],\n",
              "           [ 39,  38,  69],\n",
              "           [ 40,  37,  67]]]], dtype=uint8),\n",
              "  array([[19],\n",
              "         [29],\n",
              "         [ 0],\n",
              "         ...,\n",
              "         [ 3],\n",
              "         [ 7],\n",
              "         [73]])),\n",
              " (array([[[[199, 215, 249],\n",
              "           [196, 211, 244],\n",
              "           [195, 210, 243],\n",
              "           ...,\n",
              "           [216, 231, 250],\n",
              "           [217, 231, 250],\n",
              "           [224, 234, 252]],\n",
              "  \n",
              "          [[197, 210, 239],\n",
              "           [195, 208, 238],\n",
              "           [195, 210, 240],\n",
              "           ...,\n",
              "           [231, 243, 250],\n",
              "           [233, 243, 250],\n",
              "           [241, 245, 253]],\n",
              "  \n",
              "          [[222, 226, 246],\n",
              "           [213, 220, 242],\n",
              "           [209, 219, 243],\n",
              "           ...,\n",
              "           [243, 250, 251],\n",
              "           [244, 249, 251],\n",
              "           [250, 250, 253]],\n",
              "  \n",
              "          ...,\n",
              "  \n",
              "          [[ 72,  73,  99],\n",
              "           [ 71,  74, 102],\n",
              "           [ 74,  78, 108],\n",
              "           ...,\n",
              "           [220, 208, 217],\n",
              "           [183, 168, 181],\n",
              "           [155, 141, 150]],\n",
              "  \n",
              "          [[ 72,  75, 104],\n",
              "           [ 76,  81, 111],\n",
              "           [ 84,  89, 122],\n",
              "           ...,\n",
              "           [222, 212, 220],\n",
              "           [187, 174, 192],\n",
              "           [145, 132, 149]],\n",
              "  \n",
              "          [[ 80,  85, 118],\n",
              "           [ 84,  90, 123],\n",
              "           [ 85,  92, 127],\n",
              "           ...,\n",
              "           [217, 207, 215],\n",
              "           [207, 194, 211],\n",
              "           [176, 164, 183]]],\n",
              "  \n",
              "  \n",
              "         [[[113, 130,  98],\n",
              "           [ 88, 105,  73],\n",
              "           [ 72,  89,  58],\n",
              "           ...,\n",
              "           [105, 124,  93],\n",
              "           [ 86, 106,  74],\n",
              "           [ 63,  82,  55]],\n",
              "  \n",
              "          [[ 95, 113,  80],\n",
              "           [ 78,  97,  64],\n",
              "           [ 62,  80,  49],\n",
              "           ...,\n",
              "           [103, 122,  84],\n",
              "           [ 89, 109,  70],\n",
              "           [ 65,  83,  49]],\n",
              "  \n",
              "          [[ 79,  97,  62],\n",
              "           [ 65,  82,  49],\n",
              "           [ 52,  67,  37],\n",
              "           ...,\n",
              "           [ 65,  79,  52],\n",
              "           [ 62,  79,  51],\n",
              "           [ 49,  64,  38]],\n",
              "  \n",
              "          ...,\n",
              "  \n",
              "          [[121, 102,  86],\n",
              "           [127, 108,  96],\n",
              "           [139, 121, 111],\n",
              "           ...,\n",
              "           [ 80, 100,  71],\n",
              "           [ 75,  95,  68],\n",
              "           [ 66,  85,  62]],\n",
              "  \n",
              "          [[170, 145, 131],\n",
              "           [167, 145, 132],\n",
              "           [159, 140, 128],\n",
              "           ...,\n",
              "           [100, 113,  84],\n",
              "           [ 89, 103,  77],\n",
              "           [ 73,  87,  64]],\n",
              "  \n",
              "          [[168, 150, 135],\n",
              "           [170, 152, 137],\n",
              "           [173, 156, 141],\n",
              "           ...,\n",
              "           [118, 123,  96],\n",
              "           [ 99, 106,  80],\n",
              "           [ 84,  92,  67]]],\n",
              "  \n",
              "  \n",
              "         [[[ 61,  90, 120],\n",
              "           [ 61,  89, 119],\n",
              "           [ 67,  96, 125],\n",
              "           ...,\n",
              "           [ 70,  93, 124],\n",
              "           [ 64,  87, 118],\n",
              "           [ 64,  88, 119]],\n",
              "  \n",
              "          [[ 67,  97, 127],\n",
              "           [ 78, 108, 138],\n",
              "           [ 80, 109, 139],\n",
              "           ...,\n",
              "           [ 95, 113, 142],\n",
              "           [ 83, 101, 129],\n",
              "           [ 83, 102, 130]],\n",
              "  \n",
              "          [[ 64,  93, 123],\n",
              "           [ 66,  95, 125],\n",
              "           [ 61,  90, 120],\n",
              "           ...,\n",
              "           [120, 134, 160],\n",
              "           [109, 123, 150],\n",
              "           [112, 126, 152]],\n",
              "  \n",
              "          ...,\n",
              "  \n",
              "          [[ 84,  87,  87],\n",
              "           [ 67,  59,  38],\n",
              "           [ 84,  78,  33],\n",
              "           ...,\n",
              "           [204, 167, 160],\n",
              "           [235, 202, 192],\n",
              "           [236, 206, 193]],\n",
              "  \n",
              "          [[ 72,  64,  54],\n",
              "           [ 70,  54,  30],\n",
              "           [ 84,  79,  40],\n",
              "           ...,\n",
              "           [199, 157, 152],\n",
              "           [190, 150, 142],\n",
              "           [196, 161, 149]],\n",
              "  \n",
              "          [[ 72,  61,  47],\n",
              "           [ 76,  64,  35],\n",
              "           [ 77,  74,  37],\n",
              "           ...,\n",
              "           [227, 191, 189],\n",
              "           [155, 119, 115],\n",
              "           [134,  98,  89]]],\n",
              "  \n",
              "  \n",
              "         ...,\n",
              "  \n",
              "  \n",
              "         [[[ 24,  38,  31],\n",
              "           [ 24,  40,  31],\n",
              "           [ 22,  34,  28],\n",
              "           ...,\n",
              "           [ 56,  59,  55],\n",
              "           [ 35,  40,  37],\n",
              "           [ 25,  35,  32]],\n",
              "  \n",
              "          [[ 19,  29,  26],\n",
              "           [ 28,  45,  35],\n",
              "           [ 25,  40,  29],\n",
              "           ...,\n",
              "           [ 55,  57,  58],\n",
              "           [ 38,  42,  44],\n",
              "           [ 36,  44,  39]],\n",
              "  \n",
              "          [[ 23,  38,  28],\n",
              "           [ 31,  51,  35],\n",
              "           [ 29,  50,  32],\n",
              "           ...,\n",
              "           [ 33,  41,  36],\n",
              "           [ 33,  37,  41],\n",
              "           [ 42,  49,  44]],\n",
              "  \n",
              "          ...,\n",
              "  \n",
              "          [[ 39,  73,  29],\n",
              "           [ 47,  95,  25],\n",
              "           [ 61, 104,  44],\n",
              "           ...,\n",
              "           [ 41,  79,  35],\n",
              "           [ 71, 103,  72],\n",
              "           [ 54,  93,  53]],\n",
              "  \n",
              "          [[ 39,  72,  34],\n",
              "           [ 40,  91,  18],\n",
              "           [ 51,  96,  33],\n",
              "           ...,\n",
              "           [ 33,  70,  24],\n",
              "           [ 67, 100,  62],\n",
              "           [ 61, 101,  55]],\n",
              "  \n",
              "          [[ 48,  89,  33],\n",
              "           [ 37,  83,  17],\n",
              "           [ 46,  91,  24],\n",
              "           ...,\n",
              "           [ 33,  66,  20],\n",
              "           [ 65,  95,  54],\n",
              "           [ 60,  94,  54]]],\n",
              "  \n",
              "  \n",
              "         [[[ 86,  90,  80],\n",
              "           [ 93,  90,  75],\n",
              "           [ 28,  25,  21],\n",
              "           ...,\n",
              "           [ 73,  52,  36],\n",
              "           [ 67,  49,  39],\n",
              "           [ 92,  71,  61]],\n",
              "  \n",
              "          [[ 82,  86,  80],\n",
              "           [ 43,  44,  41],\n",
              "           [ 17,  17,  18],\n",
              "           ...,\n",
              "           [ 65,  42,  28],\n",
              "           [ 34,  23,  16],\n",
              "           [ 56,  41,  33]],\n",
              "  \n",
              "          [[ 64,  66,  60],\n",
              "           [ 25,  27,  26],\n",
              "           [ 39,  39,  39],\n",
              "           ...,\n",
              "           [ 54,  37,  24],\n",
              "           [ 34,  25,  19],\n",
              "           [ 40,  31,  22]],\n",
              "  \n",
              "          ...,\n",
              "  \n",
              "          [[ 43,  43,  39],\n",
              "           [ 87,  82,  70],\n",
              "           [112, 105,  91],\n",
              "           ...,\n",
              "           [130, 130, 123],\n",
              "           [128, 126, 121],\n",
              "           [119, 121, 119]],\n",
              "  \n",
              "          [[ 44,  42,  35],\n",
              "           [ 79,  74,  62],\n",
              "           [ 99,  95,  82],\n",
              "           ...,\n",
              "           [135, 133, 123],\n",
              "           [130, 127, 119],\n",
              "           [121, 120, 114]],\n",
              "  \n",
              "          [[ 85,  82,  70],\n",
              "           [ 97,  91,  77],\n",
              "           [ 90,  88,  76],\n",
              "           ...,\n",
              "           [132, 128, 119],\n",
              "           [129, 124, 115],\n",
              "           [120, 117, 109]]],\n",
              "  \n",
              "  \n",
              "         [[[246, 246, 242],\n",
              "           [240, 238, 232],\n",
              "           [214, 212, 199],\n",
              "           ...,\n",
              "           [ 74,  32,  35],\n",
              "           [ 77,  34,  37],\n",
              "           [ 81,  34,  35]],\n",
              "  \n",
              "          [[210, 205, 196],\n",
              "           [243, 240, 230],\n",
              "           [229, 225, 214],\n",
              "           ...,\n",
              "           [ 75,  33,  35],\n",
              "           [ 79,  35,  38],\n",
              "           [ 83,  34,  36]],\n",
              "  \n",
              "          [[144, 134, 112],\n",
              "           [175, 163, 144],\n",
              "           [158, 144, 130],\n",
              "           ...,\n",
              "           [ 74,  33,  35],\n",
              "           [ 79,  35,  38],\n",
              "           [ 82,  33,  36]],\n",
              "  \n",
              "          ...,\n",
              "  \n",
              "          [[198, 190, 176],\n",
              "           [111, 111,  66],\n",
              "           [ 58,  55,  27],\n",
              "           ...,\n",
              "           [ 62,  81,  41],\n",
              "           [ 72, 100,  41],\n",
              "           [ 80, 107,  49]],\n",
              "  \n",
              "          [[167, 160, 144],\n",
              "           [ 62,  64,  27],\n",
              "           [ 85,  85,  68],\n",
              "           ...,\n",
              "           [ 92, 126,  58],\n",
              "           [143, 183, 104],\n",
              "           [160, 199, 118]],\n",
              "  \n",
              "          [[115, 108,  94],\n",
              "           [ 42,  37,  21],\n",
              "           [139, 136, 127],\n",
              "           ...,\n",
              "           [139, 172, 114],\n",
              "           [167, 204, 141],\n",
              "           [146, 182, 118]]]], dtype=uint8),\n",
              "  array([[49],\n",
              "         [33],\n",
              "         [72],\n",
              "         ...,\n",
              "         [51],\n",
              "         [42],\n",
              "         [70]])))"
            ]
          },
          "metadata": {},
          "execution_count": 3
        }
      ]
    },
    {
      "cell_type": "code",
      "source": [
        "#Split the Dataset into Train and test\n",
        "(x_train, y_train), (x_test, y_test) = keras.datasets.cifar100.load_data()\n",
        "assert x_train.shape == (50000, 32, 32, 3)\n",
        "assert x_test.shape == (10000, 32, 32, 3)\n",
        "assert y_train.shape == (50000, 1)\n",
        "assert y_test.shape == (10000, 1)"
      ],
      "metadata": {
        "id": "d-bMay6rXC9X"
      },
      "execution_count": 4,
      "outputs": []
    },
    {
      "cell_type": "code",
      "source": [
        "x_train[0]"
      ],
      "metadata": {
        "colab": {
          "base_uri": "https://localhost:8080/"
        },
        "id": "QdZWltEuXHZ6",
        "outputId": "0b5ade1c-3410-4d4b-b331-f151481884d5"
      },
      "execution_count": 5,
      "outputs": [
        {
          "output_type": "execute_result",
          "data": {
            "text/plain": [
              "array([[[255, 255, 255],\n",
              "        [255, 255, 255],\n",
              "        [255, 255, 255],\n",
              "        ...,\n",
              "        [195, 205, 193],\n",
              "        [212, 224, 204],\n",
              "        [182, 194, 167]],\n",
              "\n",
              "       [[255, 255, 255],\n",
              "        [254, 254, 254],\n",
              "        [254, 254, 254],\n",
              "        ...,\n",
              "        [170, 176, 150],\n",
              "        [161, 168, 130],\n",
              "        [146, 154, 113]],\n",
              "\n",
              "       [[255, 255, 255],\n",
              "        [254, 254, 254],\n",
              "        [255, 255, 255],\n",
              "        ...,\n",
              "        [189, 199, 169],\n",
              "        [166, 178, 130],\n",
              "        [121, 133,  87]],\n",
              "\n",
              "       ...,\n",
              "\n",
              "       [[148, 185,  79],\n",
              "        [142, 182,  57],\n",
              "        [140, 179,  60],\n",
              "        ...,\n",
              "        [ 30,  17,   1],\n",
              "        [ 65,  62,  15],\n",
              "        [ 76,  77,  20]],\n",
              "\n",
              "       [[122, 157,  66],\n",
              "        [120, 155,  58],\n",
              "        [126, 160,  71],\n",
              "        ...,\n",
              "        [ 22,  16,   3],\n",
              "        [ 97, 112,  56],\n",
              "        [141, 161,  87]],\n",
              "\n",
              "       [[ 87, 122,  41],\n",
              "        [ 88, 122,  39],\n",
              "        [101, 134,  56],\n",
              "        ...,\n",
              "        [ 34,  36,  10],\n",
              "        [105, 133,  59],\n",
              "        [138, 173,  79]]], dtype=uint8)"
            ]
          },
          "metadata": {},
          "execution_count": 5
        }
      ]
    },
    {
      "cell_type": "code",
      "source": [
        "import matplotlib.pyplot as plt\n",
        "def show_samples(data, labels):\n",
        "\tplt.subplots(figsize=(10, 10))\n",
        "\tfor i in range(12):\n",
        "\t\tplt.subplot(3, 4, i+1)\n",
        "\t\tk = np.random.randint(0, data.shape[0])\n",
        "\t\tplt.title(labels[k])\n",
        "\t\tplt.imshow(data[k])\n",
        "\tplt.show()\n",
        "show_samples(x_train, y_train)"
      ],
      "metadata": {
        "colab": {
          "base_uri": "https://localhost:8080/",
          "height": 883
        },
        "id": "GzUxajj2XMTZ",
        "outputId": "4bc2914c-2718-46f0-9cbd-5fd5594bfba6"
      },
      "execution_count": 6,
      "outputs": [
        {
          "output_type": "stream",
          "name": "stderr",
          "text": [
            "<ipython-input-6-8849e07d285d>:5: MatplotlibDeprecationWarning: Auto-removal of overlapping axes is deprecated since 3.6 and will be removed two minor releases later; explicitly call ax.remove() as needed.\n",
            "  plt.subplot(3, 4, i+1)\n",
            "/usr/local/lib/python3.10/dist-packages/matplotlib/text.py:1279: FutureWarning: elementwise comparison failed; returning scalar instead, but in the future will perform elementwise comparison\n",
            "  if s != self._text:\n"
          ]
        },
        {
          "output_type": "display_data",
          "data": {
            "text/plain": [
              "<Figure size 1000x1000 with 12 Axes>"
            ],
            "image/png": "[encoded data removed]"
          },
          "metadata": {}
        }
      ]
    },
    {
      "cell_type": "code",
      "source": [
        "#assign the batch_size\n",
        "batchsize = 128\n",
        "#assign the number of classes\n",
        "num_classes = 100\n",
        "#define epoch\n",
        "epoch= 10\n",
        "#define rows and columns\n",
        "img_rows, img_cols = 32, 32\n",
        ""
      ],
      "metadata": {
        "id": "ZhLC7N6eXS6i"
      },
      "execution_count": 7,
      "outputs": []
    },
    {
      "cell_type": "code",
      "source": [
        "#Shape of the x_train data\n",
        "x_train.shape"
      ],
      "metadata": {
        "colab": {
          "base_uri": "https://localhost:8080/"
        },
        "id": "TAc7XL_vXX7L",
        "outputId": "35bfd0b8-fbf1-4cf9-db3b-10f4034dd695"
      },
      "execution_count": 8,
      "outputs": [
        {
          "output_type": "execute_result",
          "data": {
            "text/plain": [
              "(50000, 32, 32, 3)"
            ]
          },
          "metadata": {},
          "execution_count": 8
        }
      ]
    },
    {
      "cell_type": "code",
      "source": [
        "#Shape of the x_test data\n",
        "x_test.shape\n",
        ""
      ],
      "metadata": {
        "colab": {
          "base_uri": "https://localhost:8080/"
        },
        "id": "SAS0V3OpXo8W",
        "outputId": "917708d1-f22a-49f1-ed54-c24f8663f966"
      },
      "execution_count": 9,
      "outputs": [
        {
          "output_type": "execute_result",
          "data": {
            "text/plain": [
              "(10000, 32, 32, 3)"
            ]
          },
          "metadata": {},
          "execution_count": 9
        }
      ]
    },
    {
      "cell_type": "code",
      "source": [
        "# reshape the training datas and testing data\n",
        "new_shape = (50000, 32*32*3)\n",
        "new_shape1 = (10000, 32*32*3)\n",
        "x_train_reshaped = x_train.reshape(new_shape)\n",
        "x_test_reshaped = x_test.reshape(new_shape1)\n"
      ],
      "metadata": {
        "id": "lSwmFKP9XqGa"
      },
      "execution_count": 10,
      "outputs": []
    },
    {
      "cell_type": "code",
      "source": [
        "#Sequential is to build the model layer by layer\n",
        "model = tf.keras.models.Sequential()\n",
        "#First layer\n",
        "model.add(Conv2D(128, (3, 3), padding='same',input_shape=x_train.shape[1:]))\n",
        "model.add(Activation('relu'))\n",
        "#Hidden layer\n",
        "model.add(Conv2D(64, (3, 3), activation='relu'))\n",
        "model.add(Conv2D(32, (3, 3), activation='relu'))\n",
        "\n",
        "model.add(Conv2D(16, (3, 3), activation='relu'))\n",
        "#model.add(Conv2D(32, (3, 3), activation='relu'))\n",
        "\n",
        "#model.add(Conv2D(32, (3, 3), activation='relu'))\n",
        "#model.add(Conv2D(32, (3, 3), activation='relu'))\n",
        "\n",
        "#model.add(Conv2D(32, (3, 3), activation='relu'))\n",
        "#model.add(Conv2D(32, (3, 3), activation='relu'))\n",
        "#pooling layer\n",
        "model.add(MaxPooling2D(pool_size=(2, 2)))\n",
        "model.add(Dropout(0.25))\n",
        "model.add(Flatten())\n",
        "#dense is used to represents fully connected layer\n",
        "model.add(Dense(512))\n",
        "model.add(Activation('relu'))\n",
        "model.add(Dropout(0.5))\n",
        "model.add(Dense(num_classes))\n",
        "model.add(Activation('softmax'))\n",
        ""
      ],
      "metadata": {
        "id": "q6Oo0PnJXwjE"
      },
      "execution_count": 11,
      "outputs": []
    },
    {
      "cell_type": "code",
      "source": [
        "#To show the denmenssions\n",
        "model.summary()\n",
        ""
      ],
      "metadata": {
        "colab": {
          "base_uri": "https://localhost:8080/"
        },
        "id": "dc-knZxqXyLX",
        "outputId": "dc40355c-b3fb-4cb8-fbb1-3b126842adaa"
      },
      "execution_count": 12,
      "outputs": [
        {
          "output_type": "stream",
          "name": "stdout",
          "text": [
            "Model: \"sequential\"\n",
            "_________________________________________________________________\n",
            " Layer (type)                Output Shape              Param #   \n",
            "=================================================================\n",
            " conv2d (Conv2D)             (None, 32, 32, 128)       3584      \n",
            "                                                                 \n",
            " activation (Activation)     (None, 32, 32, 128)       0         \n",
            "                                                                 \n",
            " conv2d_1 (Conv2D)           (None, 30, 30, 64)        73792     \n",
            "                                                                 \n",
            " conv2d_2 (Conv2D)           (None, 28, 28, 32)        18464     \n",
            "                                                                 \n",
            " conv2d_3 (Conv2D)           (None, 26, 26, 16)        4624      \n",
            "                                                                 \n",
            " max_pooling2d (MaxPooling2D  (None, 13, 13, 16)       0         \n",
            " )                                                               \n",
            "                                                                 \n",
            " dropout (Dropout)           (None, 13, 13, 16)        0         \n",
            "                                                                 \n",
            " flatten (Flatten)           (None, 2704)              0         \n",
            "                                                                 \n",
            " dense (Dense)               (None, 512)               1384960   \n",
            "                                                                 \n",
            " activation_1 (Activation)   (None, 512)               0         \n",
            "                                                                 \n",
            " dropout_1 (Dropout)         (None, 512)               0         \n",
            "                                                                 \n",
            " dense_1 (Dense)             (None, 100)               51300     \n",
            "                                                                 \n",
            " activation_2 (Activation)   (None, 100)               0         \n",
            "                                                                 \n",
            "=================================================================\n",
            "Total params: 1,536,724\n",
            "Trainable params: 1,536,724\n",
            "Non-trainable params: 0\n",
            "_________________________________________________________________\n"
          ]
        }
      ]
    },
    {
      "cell_type": "code",
      "source": [
        "#Compile the model to train the datas\n",
        "model.compile(loss='categorical_crossentropy',optimizer='nadam',metrics=['accuracy'])\n",
        ""
      ],
      "metadata": {
        "id": "x9dt8ccsX022"
      },
      "execution_count": 13,
      "outputs": []
    },
    {
      "cell_type": "code",
      "source": [
        "#Converting the numerical to float\n",
        "x_train_reshaped = x_train_reshaped.astype('float32')\n",
        "x_test_reshaped= x_test_reshaped.astype('float32')\n",
        ""
      ],
      "metadata": {
        "id": "mw6cW8auX4Od"
      },
      "execution_count": 14,
      "outputs": []
    },
    {
      "cell_type": "code",
      "source": [
        "x_train_reshaped"
      ],
      "metadata": {
        "colab": {
          "base_uri": "https://localhost:8080/"
        },
        "id": "h9c2wzl3YGCQ",
        "outputId": "f74656e3-8258-4083-eb5c-a9aaa20d0d5b"
      },
      "execution_count": 15,
      "outputs": [
        {
          "output_type": "execute_result",
          "data": {
            "text/plain": [
              "array([[255., 255., 255., ..., 138., 173.,  79.],\n",
              "       [255., 255., 255., ..., 255., 255., 255.],\n",
              "       [250., 250., 248., ..., 232., 230., 228.],\n",
              "       ...,\n",
              "       [248., 244., 242., ..., 204., 205., 205.],\n",
              "       [156., 154., 137., ..., 163., 154., 126.],\n",
              "       [ 31.,  67., 122., ...,  40.,  37.,  67.]], dtype=float32)"
            ]
          },
          "metadata": {},
          "execution_count": 15
        }
      ]
    },
    {
      "cell_type": "code",
      "source": [
        "#Divide the pixels range form 0 to 1\n",
        "x_train_reshaped /= 255\n",
        "x_test_reshaped /= 255\n",
        ""
      ],
      "metadata": {
        "id": "O7__2ULLYIlD"
      },
      "execution_count": 16,
      "outputs": []
    },
    {
      "cell_type": "code",
      "source": [
        "from keras.utils import to_categorical\n",
        "y_train_one_hot = to_categorical(y_train, num_classes)\n",
        "y_test_one_hot = to_categorical(y_test, num_classes)\n",
        ""
      ],
      "metadata": {
        "id": "b4WxnuYZYLh0"
      },
      "execution_count": 17,
      "outputs": []
    },
    {
      "cell_type": "code",
      "source": [
        "print(x_test_reshaped.shape)\n",
        "print(y_test_one_hot.shape)\n",
        "print(x_train_reshaped.shape)\n",
        "print(y_train_one_hot.shape)"
      ],
      "metadata": {
        "colab": {
          "base_uri": "https://localhost:8080/"
        },
        "id": "y1A8557vYOSL",
        "outputId": "078d4946-5f90-45e1-ef43-d6bf62f024d6"
      },
      "execution_count": 18,
      "outputs": [
        {
          "output_type": "stream",
          "name": "stdout",
          "text": [
            "(10000, 3072)\n",
            "(10000, 100)\n",
            "(50000, 3072)\n",
            "(50000, 100)\n"
          ]
        }
      ]
    },
    {
      "cell_type": "code",
      "source": [
        "\n",
        "model.fit(x_train, y_train_one_hot, batch_size=batchsize , epochs=epoch, validation_data=(x_test, y_test_one_hot))\n"
      ],
      "metadata": {
        "colab": {
          "base_uri": "https://localhost:8080/"
        },
        "id": "mFPSsKb5YSnj",
        "outputId": "2d70a3fb-3ac9-443c-d55c-855391957b6c"
      },
      "execution_count": 19,
      "outputs": [
        {
          "output_type": "stream",
          "name": "stdout",
          "text": [
            "Epoch 1/10\n",
            "391/391 [==============================] - 25s 30ms/step - loss: 4.7427 - accuracy: 0.0178 - val_loss: 4.4141 - val_accuracy: 0.0471\n",
            "Epoch 2/10\n",
            "391/391 [==============================] - 11s 28ms/step - loss: 4.3740 - accuracy: 0.0518 - val_loss: 4.0572 - val_accuracy: 0.1090\n",
            "Epoch 3/10\n",
            "391/391 [==============================] - 11s 28ms/step - loss: 3.8056 - accuracy: 0.1306 - val_loss: 3.3853 - val_accuracy: 0.2053\n",
            "Epoch 4/10\n",
            "391/391 [==============================] - 11s 28ms/step - loss: 3.3888 - accuracy: 0.1962 - val_loss: 3.1612 - val_accuracy: 0.2458\n",
            "Epoch 5/10\n",
            "391/391 [==============================] - 11s 29ms/step - loss: 3.1513 - accuracy: 0.2352 - val_loss: 2.9875 - val_accuracy: 0.2814\n",
            "Epoch 6/10\n",
            "391/391 [==============================] - 11s 28ms/step - loss: 2.9618 - accuracy: 0.2699 - val_loss: 2.9179 - val_accuracy: 0.2936\n",
            "Epoch 7/10\n",
            "391/391 [==============================] - 11s 29ms/step - loss: 2.8124 - accuracy: 0.2978 - val_loss: 2.8505 - val_accuracy: 0.3059\n",
            "Epoch 8/10\n",
            "391/391 [==============================] - 11s 28ms/step - loss: 2.6841 - accuracy: 0.3243 - val_loss: 2.7849 - val_accuracy: 0.3145\n",
            "Epoch 9/10\n",
            "391/391 [==============================] - 11s 28ms/step - loss: 2.5672 - accuracy: 0.3482 - val_loss: 2.7449 - val_accuracy: 0.3207\n",
            "Epoch 10/10\n",
            "391/391 [==============================] - 11s 28ms/step - loss: 2.4561 - accuracy: 0.3687 - val_loss: 2.7685 - val_accuracy: 0.3100\n"
          ]
        },
        {
          "output_type": "execute_result",
          "data": {
            "text/plain": [
              "<keras.callbacks.History at 0x7918f84eee00>"
            ]
          },
          "metadata": {},
          "execution_count": 19
        }
      ]
    },
    {
      "cell_type": "code",
      "source": [
        "model.save('Cifar__CNN.h5')"
      ],
      "metadata": {
        "id": "liTBy-rXk8Kg"
      },
      "execution_count": 20,
      "outputs": []
    },
    {
      "cell_type": "code",
      "source": [
        "p=model.predict(x_train)\n",
        "p\n",
        ""
      ],
      "metadata": {
        "colab": {
          "base_uri": "https://localhost:8080/"
        },
        "id": "If4HkteqlIfd",
        "outputId": "b43df7d0-a9cd-4f6c-c818-7c8e7e000f01"
      },
      "execution_count": 21,
      "outputs": [
        {
          "output_type": "stream",
          "name": "stdout",
          "text": [
            "1563/1563 [==============================] - 4s 2ms/step\n"
          ]
        },
        {
          "output_type": "execute_result",
          "data": {
            "text/plain": [
              "array([[1.6808170e-03, 3.1325342e-03, 1.6211877e-02, ..., 4.7521065e-03,\n",
              "        1.7617423e-02, 4.6439902e-03],\n",
              "       [1.5789701e-07, 7.7505047e-07, 9.4899660e-06, ..., 9.0180249e-05,\n",
              "        5.0956027e-05, 1.4142805e-06],\n",
              "       [5.9282720e-02, 4.4117108e-02, 2.7341591e-03, ..., 6.2392108e-05,\n",
              "        1.0461918e-03, 8.4352056e-03],\n",
              "       ...,\n",
              "       [1.0583817e-02, 3.2638371e-04, 2.7882913e-04, ..., 6.9807778e-04,\n",
              "        2.9732909e-03, 4.4578107e-04],\n",
              "       [1.1253111e-03, 4.8859403e-03, 1.6677831e-03, ..., 4.5119741e-04,\n",
              "        2.4636153e-03, 2.7360427e-03],\n",
              "       [4.2637751e-07, 3.4460978e-04, 1.6090436e-05, ..., 5.1097032e-07,\n",
              "        1.8525085e-05, 5.3696260e-03]], dtype=float32)"
            ]
          },
          "metadata": {},
          "execution_count": 21
        }
      ]
    },
    {
      "cell_type": "code",
      "source": [
        "p[0]"
      ],
      "metadata": {
        "colab": {
          "base_uri": "https://localhost:8080/"
        },
        "id": "eBaB_-32mGSt",
        "outputId": "cf75b918-4bd3-4678-86b1-64e1971297e5"
      },
      "execution_count": 22,
      "outputs": [
        {
          "output_type": "execute_result",
          "data": {
            "text/plain": [
              "array([0.00168082, 0.00313253, 0.01621188, 0.00886201, 0.00804292,\n",
              "       0.04686971, 0.01280769, 0.00900418, 0.02748993, 0.00685911,\n",
              "       0.00288634, 0.00629384, 0.0030545 , 0.00644669, 0.01837348,\n",
              "       0.05251122, 0.01227724, 0.00438253, 0.025717  , 0.04346542,\n",
              "       0.00326128, 0.01082906, 0.00619754, 0.00080947, 0.01036937,\n",
              "       0.00326471, 0.01011349, 0.00742521, 0.00125794, 0.01081734,\n",
              "       0.00103099, 0.00671208, 0.01111086, 0.00485278, 0.02079482,\n",
              "       0.00853695, 0.00661832, 0.0234351 , 0.023785  , 0.00388628,\n",
              "       0.00500813, 0.00148766, 0.00983336, 0.0354808 , 0.00872779,\n",
              "       0.01561026, 0.01539536, 0.00359576, 0.00724144, 0.00093481,\n",
              "       0.00557579, 0.00473395, 0.00243033, 0.00110667, 0.00790602,\n",
              "       0.01735346, 0.00924989, 0.00401405, 0.00120506, 0.00363329,\n",
              "       0.00019324, 0.00218867, 0.00082285, 0.00239609, 0.00472264,\n",
              "       0.01329776, 0.00932094, 0.00063865, 0.00233077, 0.00181411,\n",
              "       0.0033917 , 0.00049209, 0.006015  , 0.00174862, 0.00407638,\n",
              "       0.00541763, 0.00049749, 0.01747363, 0.01201502, 0.03390754,\n",
              "       0.01390076, 0.00261238, 0.00262517, 0.00129667, 0.0147868 ,\n",
              "       0.00841884, 0.00430288, 0.00175045, 0.06508257, 0.03922779,\n",
              "       0.01620015, 0.00716821, 0.0040547 , 0.0041369 , 0.00928703,\n",
              "       0.00040735, 0.00296545, 0.00475211, 0.01761742, 0.00464399],\n",
              "      dtype=float32)"
            ]
          },
          "metadata": {},
          "execution_count": 22
        }
      ]
    },
    {
      "cell_type": "code",
      "source": [
        "arr=np.argmax(p[9])"
      ],
      "metadata": {
        "id": "YL81yOrMmKOL"
      },
      "execution_count": 33,
      "outputs": []
    },
    {
      "cell_type": "code",
      "source": [
        "arr"
      ],
      "metadata": {
        "colab": {
          "base_uri": "https://localhost:8080/"
        },
        "id": "0C2H2YRumSot",
        "outputId": "b2088dcc-f0e4-411a-c42b-b4b7ca930272"
      },
      "execution_count": 34,
      "outputs": [
        {
          "output_type": "execute_result",
          "data": {
            "text/plain": [
              "31"
            ]
          },
          "metadata": {},
          "execution_count": 34
        }
      ]
    },
    {
      "cell_type": "code",
      "source": [
        "y_train[9][0]"
      ],
      "metadata": {
        "colab": {
          "base_uri": "https://localhost:8080/"
        },
        "id": "6sNA0JwNmWOd",
        "outputId": "eaeb852e-e301-466f-accf-cc438603c750"
      },
      "execution_count": 35,
      "outputs": [
        {
          "output_type": "execute_result",
          "data": {
            "text/plain": [
              "31"
            ]
          },
          "metadata": {},
          "execution_count": 35
        }
      ]
    },
    {
      "cell_type": "code",
      "source": [
        "model.save('cifar_Cnn.h5')"
      ],
      "metadata": {
        "id": "wpvzyTypmuWb"
      },
      "execution_count": 36,
      "outputs": []
    }
  ]
}